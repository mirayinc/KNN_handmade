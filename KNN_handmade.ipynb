{
 "cells": [
  {
   "cell_type": "code",
   "execution_count": 159,
   "id": "5aaa4bad-daba-4934-8b30-ab557fdeb8b0",
   "metadata": {},
   "outputs": [],
   "source": [
    "#örnek verileri elle gireceğim.\n",
    "#içinde liste olan bir tane sözlük olarak tutacağım\n",
    "data = {\n",
    "        \"gozlem1\" :[-1 ,3 ,\"kırmızı\"],\n",
    "        \"gozlem2\" :[2,1, \"mavi\"],\n",
    "        \"gozlem3\" :[-2,2,\"kırmızı\"],\n",
    "        \"gozlem4\" :[-1 ,2 ,\"mavi\"],\n",
    "        \"gozlem5\" :[-1,0, \"mavi\"],\n",
    "        \"gozlem6\" :[1,1,\"kırmızı\"],\n",
    "        }"
   ]
  },
  {
   "cell_type": "code",
   "execution_count": 161,
   "id": "b1cd1616-9ab1-4e66-ae22-7c21f695cb58",
   "metadata": {},
   "outputs": [
    {
     "name": "stdin",
     "output_type": "stream",
     "text": [
      "xtest'in x1 değerini girin:  1\n",
      "xtest'in x2 değerini girin:  2\n"
     ]
    }
   ],
   "source": [
    "x1test = int(input(\"xtest'in x1 değerini girin: \"))\n",
    "x2test = int(input(\"xtest'in x2 değerini girin: \"))\n",
    "\n",
    "xtest = [x1test,x2test]\n",
    "#test edilecek x değerinin koordinatlarını aldık"
   ]
  },
  {
   "cell_type": "code",
   "execution_count": 163,
   "id": "2ce64e31-85c6-4d7b-a2f4-1a7e26fbd9e9",
   "metadata": {},
   "outputs": [],
   "source": [
    "def KNN_algoritması(data, xtest):\n",
    "    mesafeler = []\n",
    "    \n",
    "    for k,v in data.items():\n",
    "        x1=v[0]\n",
    "        x2 =v[1]\n",
    "        mesafe = ((x1-x1test)**2 + (x2-x2test)**2) **0.5\n",
    "        mesafeler.append(mesafe)\n",
    "    #her bir gözlem için mesafe hesaplandı ve mesafeler adlı bir listeye eklendi\n",
    "    #mesafelerdeki her bir veriyi value'daki listelere ekledim\n",
    "    \n",
    "    for k, mesafe in zip(data.keys(), mesafeler):\n",
    "        data[k].append(mesafe)\n",
    "    \n",
    "    renk_etiket = [value[2] for value in data.values()]\n",
    "    #renk etiketlerini bir liste haline getirdik\n",
    "    \n",
    "    d_etiketli =list(zip(mesafeler,renk_etiket))\n",
    "    #mesafeler ve renkleri zipledik bunlar tuple, sonra liste sardık\n",
    "    \n",
    "    sorted_d_etiketli = sorted(d_etiketli, key=lambda x: x[0])\n",
    "    #mesafelerine göre bunları sıraladım\n",
    "\n",
    "    #bizden bir k girmemiz istenecek\n",
    "    #bu k bakacağımız en yakın komşu sayısı\n",
    "    k = int(input(\"k yani bakılacak komşu sayısını giriniz: \"))\n",
    "\n",
    "    knn = sorted_d_etiketli[0:k:1]\n",
    "    #listede bizim ilgilendiğimiz kadarını almak için slicing \n",
    "    \n",
    "    mesflr,renkler = zip(*knn)\n",
    "    #listeyi unzip ettim\n",
    "    #artık sadece renkler adlı listenin max-minliğiyle ilgileniyorum\n",
    "    \n",
    "    en_cok_gecen = max(renkler, key=lambda x: renkler.count(x))\n",
    "    frekans = renkler.count(en_cok_gecen)\n",
    "    #burada en sık tekrarlananı ve sayısını bulduk\n",
    "\n",
    "    olasılık = int((frekans/k) *100)\n",
    "    #burada yüzdesini bulduk\n",
    "    return print(\"𝒙𝒕𝒆𝒔𝒕 veri noktasının %\", olasılık, \"olasılıkla\", en_cok_gecen, \"sınıfa ait olduğunu söyleyebiliriz.\")"
   ]
  },
  {
   "cell_type": "code",
   "execution_count": 165,
   "id": "7ce333f1-6022-40be-8311-5326c13a16be",
   "metadata": {},
   "outputs": [
    {
     "name": "stdin",
     "output_type": "stream",
     "text": [
      "k yani bakılacak komşu sayısını giriniz:  3\n"
     ]
    },
    {
     "name": "stdout",
     "output_type": "stream",
     "text": [
      "𝒙𝒕𝒆𝒔𝒕 veri noktasının % 66 olasılıkla mavi sınıfa ait olduğunu söyleyebiliriz.\n"
     ]
    }
   ],
   "source": [
    "KNN_algoritması(data, xtest)"
   ]
  },
  {
   "cell_type": "markdown",
   "id": "e4191b20-46ed-4bb8-aa04-56928e99593c",
   "metadata": {},
   "source": [
    "## ADIM ADIM NASIL YAPTIM ##"
   ]
  },
  {
   "cell_type": "code",
   "execution_count": 122,
   "id": "386b0c4b-bc47-493a-830d-2f775315afaf",
   "metadata": {},
   "outputs": [],
   "source": [
    "#örnek verileri elle gireceğim.\n",
    "#içinde liste olan bir tane sözlük olarak tutacağım\n",
    "data = {\n",
    "        \"gozlem1\" :[-1 ,3 ,\"kırmızı\"],\n",
    "        \"gozlem2\" :[2,1, \"mavi\"],\n",
    "        \"gozlem3\" :[-2,2,\"kırmızı\"],\n",
    "        \"gozlem4\" :[-1 ,2 ,\"mavi\"],\n",
    "        \"gozlem5\" :[-1,0, \"mavi\"],\n",
    "        \"gozlem6\" :[1,1,\"kırmızı\"],\n",
    "        }"
   ]
  },
  {
   "cell_type": "code",
   "execution_count": 124,
   "id": "a2bf2b47-a6de-48df-9fe1-cf512229187a",
   "metadata": {},
   "outputs": [
    {
     "name": "stdin",
     "output_type": "stream",
     "text": [
      "xtest'in x1 değerini girin:  2\n",
      "xtest'in x2 değerini girin:  7\n"
     ]
    }
   ],
   "source": [
    "x1test = int(input(\"xtest'in x1 değerini girin: \"))\n",
    "x2test = int(input(\"xtest'in x2 değerini girin: \"))\n",
    "\n",
    "xtest = [x1test,x2test]\n",
    "#test edilecek x değerinin koordinatlarını aldık"
   ]
  },
  {
   "cell_type": "code",
   "execution_count": 126,
   "id": "e1a35e6b-fd5f-4475-8ef8-2d23094a5c67",
   "metadata": {},
   "outputs": [
    {
     "name": "stdout",
     "output_type": "stream",
     "text": [
      "[5.0, 6.0, 6.4031242374328485, 5.830951894845301, 7.615773105863909, 6.082762530298219]\n"
     ]
    }
   ],
   "source": [
    "mesafeler = []\n",
    "\n",
    "for k,v in data.items():\n",
    "    x1=v[0]\n",
    "    x2 =v[1]\n",
    "    mesafe = ((x1-x1test)**2 + (x2-x2test)**2) **0.5\n",
    "    mesafeler.append(mesafe)\n",
    "    \n",
    "print(mesafeler)\n",
    "#her bir gözlem için mesafe hesaplandı ve mesafeler adlı bir listeye eklendi"
   ]
  },
  {
   "cell_type": "code",
   "execution_count": 128,
   "id": "5d4c0afd-e79b-4fc2-a313-e7f11f89e73e",
   "metadata": {},
   "outputs": [],
   "source": [
    "#mesafelerdeki her bir veriyi value'daki listelere ekledim\n",
    "for k, mesafe in zip(data.keys(), mesafeler):\n",
    "    data[k].append(mesafe)"
   ]
  },
  {
   "cell_type": "code",
   "execution_count": 130,
   "id": "15830b3d-2d7c-49e3-9e4f-21008a5d0171",
   "metadata": {},
   "outputs": [
    {
     "data": {
      "text/plain": [
       "{'gozlem1': [-1, 3, 'kırmızı', 5.0],\n",
       " 'gozlem2': [2, 1, 'mavi', 6.0],\n",
       " 'gozlem3': [-2, 2, 'kırmızı', 6.4031242374328485],\n",
       " 'gozlem4': [-1, 2, 'mavi', 5.830951894845301],\n",
       " 'gozlem5': [-1, 0, 'mavi', 7.615773105863909],\n",
       " 'gozlem6': [1, 1, 'kırmızı', 6.082762530298219]}"
      ]
     },
     "execution_count": 130,
     "metadata": {},
     "output_type": "execute_result"
    }
   ],
   "source": [
    "data\n",
    "#data dictinin yeni hali\n",
    "#şimdi data dictinde her bir gözlemin hem x1 hem x2 hem etiketi hem xtest'e uzaklığı var"
   ]
  },
  {
   "cell_type": "code",
   "execution_count": 132,
   "id": "f4ae7a6b-bc8d-4a12-a3d7-998b66b389fb",
   "metadata": {},
   "outputs": [
    {
     "name": "stdout",
     "output_type": "stream",
     "text": [
      "['kırmızı', 'mavi', 'kırmızı', 'mavi', 'mavi', 'kırmızı']\n"
     ]
    }
   ],
   "source": [
    "renk_etiket = [value[2] for value in data.values()]\n",
    "print(renk_etiket)\n",
    "#renk etiketlerini bir liste haline getirdik"
   ]
  },
  {
   "cell_type": "code",
   "execution_count": 134,
   "id": "eb2c6160-7828-4423-9594-fdda4dcdce31",
   "metadata": {},
   "outputs": [
    {
     "name": "stdout",
     "output_type": "stream",
     "text": [
      "[5.0, 6.0, 6.4031242374328485, 5.830951894845301, 7.615773105863909, 6.082762530298219]\n"
     ]
    }
   ],
   "source": [
    "print(mesafeler)\n",
    "#mesafeler listemiz dicte eklemeden önce de vardı"
   ]
  },
  {
   "cell_type": "code",
   "execution_count": 136,
   "id": "f39600b9-6918-4f64-8640-a258db3047a5",
   "metadata": {},
   "outputs": [
    {
     "name": "stdout",
     "output_type": "stream",
     "text": [
      "[(5.0, 'kırmızı'), (6.0, 'mavi'), (6.4031242374328485, 'kırmızı'), (5.830951894845301, 'mavi'), (7.615773105863909, 'mavi'), (6.082762530298219, 'kırmızı')]\n"
     ]
    }
   ],
   "source": [
    "d_etiketli =list(zip(mesafeler,renk_etiket))\n",
    "print(d_etiketli)\n",
    "#mesafeler ve renkleri zipledik bunlar tuple, sonra liste sardık"
   ]
  },
  {
   "cell_type": "code",
   "execution_count": 138,
   "id": "a32c5ca4-148d-4b77-a1bc-255895ce1aa8",
   "metadata": {},
   "outputs": [],
   "source": [
    "sorted_d_etiketli = sorted(d_etiketli, key=lambda x: x[0])\n",
    "#mesafelerine göre bunları sıraladım"
   ]
  },
  {
   "cell_type": "code",
   "execution_count": 144,
   "id": "f3d1939c-1d24-4e69-8deb-85f6ea2e7c12",
   "metadata": {},
   "outputs": [
    {
     "name": "stdout",
     "output_type": "stream",
     "text": [
      "En yakın noktaların mesafeleri ve renkleri: [(5.0, 'kırmızı'), (5.830951894845301, 'mavi'), (6.0, 'mavi'), (6.082762530298219, 'kırmızı'), (6.4031242374328485, 'kırmızı'), (7.615773105863909, 'mavi')]\n"
     ]
    }
   ],
   "source": [
    "print(\"En yakın noktaların mesafeleri ve renkleri:\", sorted_d_etiketli)"
   ]
  },
  {
   "cell_type": "code",
   "execution_count": 146,
   "id": "45b42e70-c263-49bf-bb0b-913af4fcafd2",
   "metadata": {},
   "outputs": [
    {
     "name": "stdin",
     "output_type": "stream",
     "text": [
      "k yani bakılacak komşu sayısını giriniz:  5\n"
     ]
    }
   ],
   "source": [
    "#bizden bir k girmemiz istenecek\n",
    "#bu k bakacağımız en yakın komşu sayısı\n",
    "k = int(input(\"k yani bakılacak komşu sayısını giriniz: \"))"
   ]
  },
  {
   "cell_type": "code",
   "execution_count": 148,
   "id": "f10e123a-23ad-48b7-866d-26a8c92db348",
   "metadata": {},
   "outputs": [],
   "source": [
    "knn = sorted_d_etiketli[0:k:1]\n",
    "#listede bizim ilgilendiğimiz kadarını almak için slicing "
   ]
  },
  {
   "cell_type": "code",
   "execution_count": 150,
   "id": "6890cb94-3329-4b7f-9002-fa7aeda8c63d",
   "metadata": {},
   "outputs": [],
   "source": [
    "mesflr,renkler = zip(*knn)\n",
    "#listeyi unzip ettim\n",
    "#artık sadece renkler adlı listenin max-minliğiyle ilgileniyorum"
   ]
  },
  {
   "cell_type": "code",
   "execution_count": 152,
   "id": "d317fa07-841d-4d41-ab19-8c0aa6a58d16",
   "metadata": {},
   "outputs": [],
   "source": [
    "en_cok_gecen = max(renkler, key=lambda x: renkler.count(x))\n",
    "frekans = renkler.count(en_cok_gecen)\n",
    "#burada en sık tekrarlananı ve sayısını bulduk"
   ]
  },
  {
   "cell_type": "code",
   "execution_count": 154,
   "id": "8feaf038-ae81-4878-8c90-9ae1418ca580",
   "metadata": {},
   "outputs": [],
   "source": [
    "olasılık = int((frekans/k) *100)\n",
    "#burada yüzdesini bulduk"
   ]
  },
  {
   "cell_type": "code",
   "execution_count": 156,
   "id": "c5ab6d46-e990-42e4-a8d8-f470c7e69652",
   "metadata": {},
   "outputs": [
    {
     "name": "stdout",
     "output_type": "stream",
     "text": [
      "𝒙𝒕𝒆𝒔𝒕 veri noktasının % 60 olasılıkla kırmızı sınıfa ait olduğunu söyleyebiliriz.\n"
     ]
    }
   ],
   "source": [
    "print(\"𝒙𝒕𝒆𝒔𝒕 veri noktasının %\", olasılık, \"olasılıkla\", en_cok_gecen, \"sınıfa ait olduğunu söyleyebiliriz.\")\n",
    "#burada ise yazdırdık."
   ]
  },
  {
   "cell_type": "markdown",
   "id": "db39c010-9f49-422a-b620-749d98238087",
   "metadata": {},
   "source": [
    "Daha sonra bunları bir fonksyon içine yazdım. \n",
    "Bunları yazarken yapacağım şeyde aldığım hataların nedenini anlamak ve syntaxı doğru yazmak için yardım aldım."
   ]
  }
 ],
 "metadata": {
  "kernelspec": {
   "display_name": "Python 3 (ipykernel)",
   "language": "python",
   "name": "python3"
  },
  "language_info": {
   "codemirror_mode": {
    "name": "ipython",
    "version": 3
   },
   "file_extension": ".py",
   "mimetype": "text/x-python",
   "name": "python",
   "nbconvert_exporter": "python",
   "pygments_lexer": "ipython3",
   "version": "3.12.7"
  }
 },
 "nbformat": 4,
 "nbformat_minor": 5
}
